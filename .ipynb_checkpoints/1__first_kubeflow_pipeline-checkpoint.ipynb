{
 "cells": [
  {
   "cell_type": "code",
   "execution_count": 1,
   "id": "cfe949e7-b4cf-4cc3-bd05-e08f556e5683",
   "metadata": {},
   "outputs": [
    {
     "ename": "ModuleNotFoundError",
     "evalue": "No module named 'kfp'",
     "output_type": "error",
     "traceback": [
      "\u001b[0;31m---------------------------------------------------------------------------\u001b[0m",
      "\u001b[0;31mModuleNotFoundError\u001b[0m                       Traceback (most recent call last)",
      "\u001b[0;32m/tmp/ipykernel_28497/74942140.py\u001b[0m in \u001b[0;36m<module>\u001b[0;34m\u001b[0m\n\u001b[0;32m----> 1\u001b[0;31m \u001b[0;32mimport\u001b[0m \u001b[0mkfp\u001b[0m\u001b[0;34m\u001b[0m\u001b[0;34m\u001b[0m\u001b[0m\n\u001b[0m",
      "\u001b[0;31mModuleNotFoundError\u001b[0m: No module named 'kfp'"
     ]
    }
   ],
   "source": [
    "import kfp"
   ]
  },
  {
   "cell_type": "code",
   "execution_count": null,
   "id": "8322fb4c-f035-490b-9c68-6bfec3045a3e",
   "metadata": {},
   "outputs": [],
   "source": [
    "from dotenv import load_dotenv\n",
    "load_dotenv(verbose=True)"
   ]
  },
  {
   "cell_type": "code",
   "execution_count": null,
   "id": "db61b8b9-92d7-4d37-b729-fcd5bc7c86fd",
   "metadata": {},
   "outputs": [],
   "source": [
    "import os\n",
    "PROJECT_ID = os.environ.get('PROJECT_ID')\n",
    "BUCKET_NAME = os.environ.get('BUCKET')\n",
    "\n",
    "PIPELINE_ROOT = 'gs://{}/pipeline_root'.format(BUCKET_NAME)\n",
    "REGION = 'us-central1'\n",
    "\n",
    "print(PROJECT_ID)\n",
    "print(BUCKET_NAME)\n",
    "print(PIPELINE_ROOT)\n",
    "\n",
    "PIPELINE_PARAMETERS = {\n",
    "    \"in_bigquery_projectid\": PROJECT_ID,\n",
    "    \"in_vertexai_projectid\": PROJECT_ID,\n",
    "    \"in_vertexai_region\": REGION \n",
    "    }\n",
    "\n",
    "LABELS = {}\n",
    "\n",
    "ENABLE_CACHING=True"
   ]
  },
  {
   "cell_type": "code",
   "execution_count": null,
   "id": "186f92db-4adc-4285-8358-861e6334de92",
   "metadata": {},
   "outputs": [],
   "source": [
    "from kfp.dsl import pipeline\n",
    "from kfp.dsl import Condition\n",
    "\n",
    "@pipeline(name=\"wf-ccc-ex1\")\n",
    "def pipeline(\n",
    "    in_bigquery_projectid: str = 'defaultprojectid',\n",
    "    in_bigquery_dataset: str = 'telcosandbox'  \n",
    "):\n",
    "    print(\"Hello CCC\")"
   ]
  },
  {
   "cell_type": "code",
   "execution_count": null,
   "id": "ad498543-9f83-4583-b302-3737308095c0",
   "metadata": {},
   "outputs": [],
   "source": [
    "from kfp.v2 import compiler"
   ]
  },
  {
   "cell_type": "code",
   "execution_count": null,
   "id": "4956c3c2-131f-4531-aca7-e2d65b29efb0",
   "metadata": {},
   "outputs": [],
   "source": [
    "dag_json_filename = \"dag_ccc_ex1.json\"\n",
    "\n",
    "compiler.Compiler().compile(\n",
    "   pipeline_func=pipeline,        ##input\n",
    "   package_path=dag_json_filename ##output\n",
    ")"
   ]
  },
  {
   "cell_type": "code",
   "execution_count": null,
   "id": "ffd70844-c569-4553-ad5a-fc47b1e67539",
   "metadata": {},
   "outputs": [],
   "source": [
    "from google.cloud import aiplatform\n",
    "\n",
    "job = aiplatform.PipelineJob(display_name = \"kfp_pipeline_ccc_ex1,\n",
    "                             template_path = dag_json_filename,\n",
    "                             pipeline_root = PIPELINE_ROOT,\n",
    "                             parameter_values = PIPELINE_PARAMETERS,\n",
    "                             enable_caching = ENABLE_CACHING,\n",
    "                             #encryption_spec_key_name = CMEK,\n",
    "                             labels = LABELS,\n",
    "                             project = PROJECT_ID,\n",
    "                             location = REGION)\n",
    "\n",
    "job.run(service_account=\"339239659794-compute@developer.gserviceaccount.com\")"
   ]
  }
 ],
 "metadata": {
  "environment": {
   "kernel": "python3",
   "name": "tf2-gpu.2-9.m102",
   "type": "gcloud",
   "uri": "gcr.io/deeplearning-platform-release/tf2-gpu.2-9:m102"
  },
  "kernelspec": {
   "display_name": "Python 3 (ipykernel)",
   "language": "python",
   "name": "python3"
  },
  "language_info": {
   "codemirror_mode": {
    "name": "ipython",
    "version": 3
   },
   "file_extension": ".py",
   "mimetype": "text/x-python",
   "name": "python",
   "nbconvert_exporter": "python",
   "pygments_lexer": "ipython3",
   "version": "3.7.12"
  }
 },
 "nbformat": 4,
 "nbformat_minor": 5
}

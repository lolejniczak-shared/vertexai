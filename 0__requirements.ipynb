{
 "cells": [
  {
   "cell_type": "code",
   "execution_count": 11,
   "id": "0c302b3e-d585-4854-892f-bf4472ad73fd",
   "metadata": {},
   "outputs": [
    {
     "name": "stdout",
     "output_type": "stream",
     "text": [
      "Overwriting requirements.txt\n"
     ]
    }
   ],
   "source": [
    "%%writefile requirements.txt\n",
    "kfp==1.8.14\n",
    "google-cloud-pipeline-components==1.0.33\n",
    "google-cloud-storage>=2.2.1\n",
    "google-cloud-aiplatform>=1.21.0\n",
    "fastapi\n",
    "keras-tuner\n",
    "uvicorn==0.17.6\n",
    "joblib~=1.0\n",
    "numpy~=1.20\n",
    "scikit-learn~=0.24"
   ]
  },
  {
   "cell_type": "code",
   "execution_count": 2,
   "id": "6735305c-6191-4aba-a6ab-342834cf0254",
   "metadata": {
    "collapsed": true,
    "jupyter": {
     "outputs_hidden": true
    },
    "tags": []
   },
   "outputs": [
    {
     "name": "stdout",
     "output_type": "stream",
     "text": [
      "Requirement already satisfied: kfp==2.0.0b10 in /home/jupyter/.local/lib/python3.7/site-packages (from -r requirements.txt (line 1)) (2.0.0b10)\n",
      "Requirement already satisfied: google-cloud-pipeline-components==1.0.33 in /home/jupyter/.local/lib/python3.7/site-packages (from -r requirements.txt (line 2)) (1.0.33)\n",
      "Requirement already satisfied: google-cloud-storage>=2.2.1 in /home/jupyter/.local/lib/python3.7/site-packages (from -r requirements.txt (line 3)) (2.7.0)\n",
      "Requirement already satisfied: google-cloud-aiplatform>=1.21.0 in /home/jupyter/.local/lib/python3.7/site-packages (from -r requirements.txt (line 4)) (1.21.0)\n",
      "Requirement already satisfied: fastapi in /opt/conda/lib/python3.7/site-packages (from -r requirements.txt (line 5)) (0.75.2)\n",
      "Collecting fastapi\n",
      "  Using cached fastapi-0.89.1-py3-none-any.whl (55 kB)\n",
      "Requirement already satisfied: uvicorn==0.17.6 in /home/jupyter/.local/lib/python3.7/site-packages (from -r requirements.txt (line 6)) (0.17.6)\n",
      "Requirement already satisfied: joblib~=1.0 in /home/jupyter/.local/lib/python3.7/site-packages (from -r requirements.txt (line 7)) (1.2.0)\n",
      "Requirement already satisfied: numpy~=1.20 in /home/jupyter/.local/lib/python3.7/site-packages (from -r requirements.txt (line 8)) (1.21.6)\n",
      "Requirement already satisfied: scikit-learn~=0.24 in /opt/conda/lib/python3.7/site-packages (from -r requirements.txt (line 9)) (0.24.2)\n",
      "Requirement already satisfied: Deprecated<2,>=1.2.7 in /opt/conda/lib/python3.7/site-packages (from kfp==2.0.0b10->-r requirements.txt (line 1)) (1.2.13)\n",
      "Requirement already satisfied: strip-hints<1,>=0.1.8 in /opt/conda/lib/python3.7/site-packages (from kfp==2.0.0b10->-r requirements.txt (line 1)) (0.1.10)\n",
      "Requirement already satisfied: fire<1,>=0.3.1 in /opt/conda/lib/python3.7/site-packages (from kfp==2.0.0b10->-r requirements.txt (line 1)) (0.4.0)\n",
      "Requirement already satisfied: cloudpickle<3,>=2.0.0 in /opt/conda/lib/python3.7/site-packages (from kfp==2.0.0b10->-r requirements.txt (line 1)) (2.0.0)\n",
      "Requirement already satisfied: protobuf<4,>=3.13.0 in /opt/conda/lib/python3.7/site-packages (from kfp==2.0.0b10->-r requirements.txt (line 1)) (3.20.3)\n",
      "Requirement already satisfied: PyYAML<6,>=5.3 in /opt/conda/lib/python3.7/site-packages (from kfp==2.0.0b10->-r requirements.txt (line 1)) (5.4.1)\n",
      "Requirement already satisfied: requests-toolbelt<1,>=0.8.0 in /opt/conda/lib/python3.7/site-packages (from kfp==2.0.0b10->-r requirements.txt (line 1)) (0.9.1)\n",
      "Requirement already satisfied: docstring-parser<1,>=0.7.3 in /opt/conda/lib/python3.7/site-packages (from kfp==2.0.0b10->-r requirements.txt (line 1)) (0.12)\n",
      "Requirement already satisfied: kfp-pipeline-spec<0.2.0,>=0.1.17 in /home/jupyter/.local/lib/python3.7/site-packages (from kfp==2.0.0b10->-r requirements.txt (line 1)) (0.1.17)\n",
      "Requirement already satisfied: absl-py<2,>=0.9 in /opt/conda/lib/python3.7/site-packages (from kfp==2.0.0b10->-r requirements.txt (line 1)) (1.3.0)\n",
      "Requirement already satisfied: typer<1.0,>=0.3.2 in /opt/conda/lib/python3.7/site-packages (from kfp==2.0.0b10->-r requirements.txt (line 1)) (0.4.0)\n",
      "Requirement already satisfied: google-api-core!=2.0.*,!=2.1.*,!=2.2.*,!=2.3.0,<3.0.0dev,>=1.31.5 in /opt/conda/lib/python3.7/site-packages (from kfp==2.0.0b10->-r requirements.txt (line 1)) (2.11.0)\n",
      "Requirement already satisfied: uritemplate<4,>=3.0.1 in /opt/conda/lib/python3.7/site-packages (from kfp==2.0.0b10->-r requirements.txt (line 1)) (3.0.1)\n",
      "Requirement already satisfied: typing-extensions<5,>=3.7.4 in /opt/conda/lib/python3.7/site-packages (from kfp==2.0.0b10->-r requirements.txt (line 1)) (4.2.0)\n",
      "Requirement already satisfied: jsonschema<4,>=3.0.1 in /opt/conda/lib/python3.7/site-packages (from kfp==2.0.0b10->-r requirements.txt (line 1)) (3.2.0)\n",
      "Requirement already satisfied: kubernetes<24,>=8.0.0 in /opt/conda/lib/python3.7/site-packages (from kfp==2.0.0b10->-r requirements.txt (line 1)) (18.20.0)\n",
      "Requirement already satisfied: tabulate<1,>=0.8.6 in /opt/conda/lib/python3.7/site-packages (from kfp==2.0.0b10->-r requirements.txt (line 1)) (0.8.9)\n",
      "Requirement already satisfied: google-auth<3,>=1.6.1 in /opt/conda/lib/python3.7/site-packages (from kfp==2.0.0b10->-r requirements.txt (line 1)) (2.15.0)\n",
      "Requirement already satisfied: click<9,>=7.1.2 in /opt/conda/lib/python3.7/site-packages (from kfp==2.0.0b10->-r requirements.txt (line 1)) (8.0.1)\n",
      "Requirement already satisfied: kfp-server-api<3.0.0,>=2.0.0a0 in /home/jupyter/.local/lib/python3.7/site-packages (from kfp==2.0.0b10->-r requirements.txt (line 1)) (2.0.0a6)\n",
      "Requirement already satisfied: google-cloud-notebooks>=0.4.0 in /opt/conda/lib/python3.7/site-packages (from google-cloud-pipeline-components==1.0.33->-r requirements.txt (line 2)) (1.5.0)\n",
      "Requirement already satisfied: h11>=0.8 in /home/jupyter/.local/lib/python3.7/site-packages (from uvicorn==0.17.6->-r requirements.txt (line 6)) (0.14.0)\n",
      "Requirement already satisfied: asgiref>=3.4.0 in /home/jupyter/.local/lib/python3.7/site-packages (from uvicorn==0.17.6->-r requirements.txt (line 6)) (3.6.0)\n",
      "Requirement already satisfied: google-resumable-media>=2.3.2 in /home/jupyter/.local/lib/python3.7/site-packages (from google-cloud-storage>=2.2.1->-r requirements.txt (line 3)) (2.4.0)\n",
      "Requirement already satisfied: requests<3.0.0dev,>=2.18.0 in /home/jupyter/.local/lib/python3.7/site-packages (from google-cloud-storage>=2.2.1->-r requirements.txt (line 3)) (2.28.2)\n",
      "Requirement already satisfied: google-cloud-core<3.0dev,>=2.3.0 in /opt/conda/lib/python3.7/site-packages (from google-cloud-storage>=2.2.1->-r requirements.txt (line 3)) (2.3.2)\n",
      "Requirement already satisfied: proto-plus<2.0.0dev,>=1.22.0 in /opt/conda/lib/python3.7/site-packages (from google-cloud-aiplatform>=1.21.0->-r requirements.txt (line 4)) (1.22.1)\n",
      "Requirement already satisfied: shapely<2.0.0 in /home/jupyter/.local/lib/python3.7/site-packages (from google-cloud-aiplatform>=1.21.0->-r requirements.txt (line 4)) (1.8.5.post1)\n",
      "Requirement already satisfied: google-cloud-bigquery<4.0.0dev,>=1.15.0 in /opt/conda/lib/python3.7/site-packages (from google-cloud-aiplatform>=1.21.0->-r requirements.txt (line 4)) (3.4.2)\n",
      "Requirement already satisfied: google-cloud-resource-manager<3.0.0dev,>=1.3.3 in /opt/conda/lib/python3.7/site-packages (from google-cloud-aiplatform>=1.21.0->-r requirements.txt (line 4)) (1.7.0)\n",
      "Requirement already satisfied: packaging<22.0.0dev,>=14.3 in /opt/conda/lib/python3.7/site-packages (from google-cloud-aiplatform>=1.21.0->-r requirements.txt (line 4)) (21.0)\n",
      "Collecting starlette==0.22.0\n",
      "  Using cached starlette-0.22.0-py3-none-any.whl (64 kB)\n",
      "Requirement already satisfied: pydantic!=1.7,!=1.7.1,!=1.7.2,!=1.7.3,!=1.8,!=1.8.1,<2.0.0,>=1.6.2 in /opt/conda/lib/python3.7/site-packages (from fastapi->-r requirements.txt (line 5)) (1.8.2)\n",
      "Requirement already satisfied: anyio<5,>=3.4.0 in /home/jupyter/.local/lib/python3.7/site-packages (from starlette==0.22.0->fastapi->-r requirements.txt (line 5)) (3.6.2)\n",
      "Requirement already satisfied: scipy>=0.19.1 in /opt/conda/lib/python3.7/site-packages (from scikit-learn~=0.24->-r requirements.txt (line 9)) (1.7.1)\n",
      "Requirement already satisfied: threadpoolctl>=2.0.0 in /opt/conda/lib/python3.7/site-packages (from scikit-learn~=0.24->-r requirements.txt (line 9)) (2.2.0)\n",
      "Requirement already satisfied: importlib-metadata in /opt/conda/lib/python3.7/site-packages (from click<9,>=7.1.2->kfp==2.0.0b10->-r requirements.txt (line 1)) (4.8.1)\n",
      "Requirement already satisfied: wrapt<2,>=1.10 in /opt/conda/lib/python3.7/site-packages (from Deprecated<2,>=1.2.7->kfp==2.0.0b10->-r requirements.txt (line 1)) (1.12.1)\n",
      "Requirement already satisfied: termcolor in /opt/conda/lib/python3.7/site-packages (from fire<1,>=0.3.1->kfp==2.0.0b10->-r requirements.txt (line 1)) (1.1.0)\n",
      "Requirement already satisfied: six in /opt/conda/lib/python3.7/site-packages (from fire<1,>=0.3.1->kfp==2.0.0b10->-r requirements.txt (line 1)) (1.15.0)\n",
      "Requirement already satisfied: googleapis-common-protos<2.0dev,>=1.56.2 in /opt/conda/lib/python3.7/site-packages (from google-api-core!=2.0.*,!=2.1.*,!=2.2.*,!=2.3.0,<3.0.0dev,>=1.31.5->kfp==2.0.0b10->-r requirements.txt (line 1)) (1.57.0)\n",
      "Requirement already satisfied: grpcio-status<2.0dev,>=1.33.2 in /opt/conda/lib/python3.7/site-packages (from google-api-core!=2.0.*,!=2.1.*,!=2.2.*,!=2.3.0,<3.0.0dev,>=1.31.5->kfp==2.0.0b10->-r requirements.txt (line 1)) (1.48.2)\n",
      "Requirement already satisfied: grpcio<2.0dev,>=1.33.2 in /opt/conda/lib/python3.7/site-packages (from google-api-core!=2.0.*,!=2.1.*,!=2.2.*,!=2.3.0,<3.0.0dev,>=1.31.5->kfp==2.0.0b10->-r requirements.txt (line 1)) (1.51.1)\n",
      "Requirement already satisfied: rsa<5,>=3.1.4 in /opt/conda/lib/python3.7/site-packages (from google-auth<3,>=1.6.1->kfp==2.0.0b10->-r requirements.txt (line 1)) (4.7.2)\n",
      "Requirement already satisfied: pyasn1-modules>=0.2.1 in /opt/conda/lib/python3.7/site-packages (from google-auth<3,>=1.6.1->kfp==2.0.0b10->-r requirements.txt (line 1)) (0.2.7)\n",
      "Requirement already satisfied: cachetools<6.0,>=2.0.0 in /opt/conda/lib/python3.7/site-packages (from google-auth<3,>=1.6.1->kfp==2.0.0b10->-r requirements.txt (line 1)) (4.2.2)\n",
      "Requirement already satisfied: python-dateutil<3.0dev,>=2.7.2 in /opt/conda/lib/python3.7/site-packages (from google-cloud-bigquery<4.0.0dev,>=1.15.0->google-cloud-aiplatform>=1.21.0->-r requirements.txt (line 4)) (2.8.2)\n",
      "Requirement already satisfied: grpc-google-iam-v1<1.0.0dev,>=0.12.4 in /opt/conda/lib/python3.7/site-packages (from google-cloud-notebooks>=0.4.0->google-cloud-pipeline-components==1.0.33->-r requirements.txt (line 2)) (0.12.4)\n",
      "Requirement already satisfied: google-crc32c<2.0dev,>=1.0 in /opt/conda/lib/python3.7/site-packages (from google-resumable-media>=2.3.2->google-cloud-storage>=2.2.1->-r requirements.txt (line 3)) (1.2.0)\n",
      "Requirement already satisfied: pyrsistent>=0.14.0 in /opt/conda/lib/python3.7/site-packages (from jsonschema<4,>=3.0.1->kfp==2.0.0b10->-r requirements.txt (line 1)) (0.17.3)\n",
      "Requirement already satisfied: setuptools in /opt/conda/lib/python3.7/site-packages (from jsonschema<4,>=3.0.1->kfp==2.0.0b10->-r requirements.txt (line 1)) (58.0.4)\n",
      "Requirement already satisfied: attrs>=17.4.0 in /opt/conda/lib/python3.7/site-packages (from jsonschema<4,>=3.0.1->kfp==2.0.0b10->-r requirements.txt (line 1)) (21.2.0)\n",
      "Requirement already satisfied: urllib3>=1.15 in /opt/conda/lib/python3.7/site-packages (from kfp-server-api<3.0.0,>=2.0.0a0->kfp==2.0.0b10->-r requirements.txt (line 1)) (1.26.6)\n",
      "Requirement already satisfied: certifi in /opt/conda/lib/python3.7/site-packages (from kfp-server-api<3.0.0,>=2.0.0a0->kfp==2.0.0b10->-r requirements.txt (line 1)) (2021.5.30)\n",
      "Requirement already satisfied: requests-oauthlib in /opt/conda/lib/python3.7/site-packages (from kubernetes<24,>=8.0.0->kfp==2.0.0b10->-r requirements.txt (line 1)) (1.3.0)\n",
      "Requirement already satisfied: websocket-client!=0.40.0,!=0.41.*,!=0.42.*,>=0.32.0 in /opt/conda/lib/python3.7/site-packages (from kubernetes<24,>=8.0.0->kfp==2.0.0b10->-r requirements.txt (line 1)) (0.57.0)\n",
      "Requirement already satisfied: pyparsing>=2.0.2 in /opt/conda/lib/python3.7/site-packages (from packaging<22.0.0dev,>=14.3->google-cloud-aiplatform>=1.21.0->-r requirements.txt (line 4)) (2.4.7)\n",
      "Requirement already satisfied: charset-normalizer<4,>=2 in /home/jupyter/.local/lib/python3.7/site-packages (from requests<3.0.0dev,>=2.18.0->google-cloud-storage>=2.2.1->-r requirements.txt (line 3)) (3.0.1)\n",
      "Requirement already satisfied: idna<4,>=2.5 in /opt/conda/lib/python3.7/site-packages (from requests<3.0.0dev,>=2.18.0->google-cloud-storage>=2.2.1->-r requirements.txt (line 3)) (2.10)\n",
      "Requirement already satisfied: wheel in /opt/conda/lib/python3.7/site-packages (from strip-hints<1,>=0.1.8->kfp==2.0.0b10->-r requirements.txt (line 1)) (0.37.0)\n",
      "Requirement already satisfied: sniffio>=1.1 in /opt/conda/lib/python3.7/site-packages (from anyio<5,>=3.4.0->starlette==0.22.0->fastapi->-r requirements.txt (line 5)) (1.2.0)\n",
      "Requirement already satisfied: pyasn1<0.5.0,>=0.4.6 in /opt/conda/lib/python3.7/site-packages (from pyasn1-modules>=0.2.1->google-auth<3,>=1.6.1->kfp==2.0.0b10->-r requirements.txt (line 1)) (0.4.8)\n",
      "Requirement already satisfied: zipp>=0.5 in /opt/conda/lib/python3.7/site-packages (from importlib-metadata->click<9,>=7.1.2->kfp==2.0.0b10->-r requirements.txt (line 1)) (3.5.0)\n",
      "Requirement already satisfied: oauthlib>=3.0.0 in /opt/conda/lib/python3.7/site-packages (from requests-oauthlib->kubernetes<24,>=8.0.0->kfp==2.0.0b10->-r requirements.txt (line 1)) (3.1.1)\n",
      "Installing collected packages: starlette, fastapi\n",
      "Successfully installed fastapi-0.89.1 starlette-0.22.0\n",
      "Note: you may need to restart the kernel to use updated packages.\n"
     ]
    }
   ],
   "source": [
    "%pip install -U --user -r requirements.txt"
   ]
  },
  {
   "cell_type": "code",
   "execution_count": 2,
   "id": "ac464685-7a69-4856-9c2a-076511abe929",
   "metadata": {},
   "outputs": [
    {
     "name": "stdout",
     "output_type": "stream",
     "text": [
      "KFP SDK version: 2.0.0-beta.10\n"
     ]
    }
   ],
   "source": [
    "import kfp\n",
    "print('KFP SDK version: {}'.format(kfp.__version__))"
   ]
  },
  {
   "cell_type": "markdown",
   "id": "6cfe22b0-d68c-412a-9d55-f0e7e8776c4d",
   "metadata": {},
   "source": [
    "## https://cloud.google.com/vertex-ai/docs/pipelines/gcpc-list"
   ]
  },
  {
   "cell_type": "code",
   "execution_count": 3,
   "id": "c59ec761-c7b1-423e-a661-4421575d37ef",
   "metadata": {},
   "outputs": [
    {
     "name": "stdout",
     "output_type": "stream",
     "text": [
      "google_cloud_pipeline_components version: 1.0.33\n"
     ]
    }
   ],
   "source": [
    "import google_cloud_pipeline_components\n",
    "print('google_cloud_pipeline_components version: {}'.format(google_cloud_pipeline_components.__version__))"
   ]
  },
  {
   "cell_type": "markdown",
   "id": "52c67a89-a91b-4de7-afb1-3a9484318415",
   "metadata": {},
   "source": [
    "### Auxiliary variables"
   ]
  },
  {
   "cell_type": "code",
   "execution_count": 4,
   "id": "f79cd9d0-0f80-4615-963d-83d5708cd506",
   "metadata": {},
   "outputs": [],
   "source": [
    "PREFIX = \"ccc\""
   ]
  },
  {
   "cell_type": "code",
   "execution_count": 5,
   "id": "e69b6bbb-44b4-4047-a189-6503208de4b3",
   "metadata": {},
   "outputs": [
    {
     "data": {
      "text/plain": [
       "('datafusionsbox', 'dataset4ccc', 'us', 'df_for_model_ccc_with_weights')"
      ]
     },
     "execution_count": 5,
     "metadata": {},
     "output_type": "execute_result"
    }
   ],
   "source": [
    "BIGQUERY_PROJECT_ID = \"datafusionsbox\"\n",
    "BIGQUERY_DATASET = \"dataset4ccc\"\n",
    "BIGQUERY_TABLE = \"df_for_model_ccc_with_weights\"  ###\"df_for_model_ccc_total\"\n",
    "BIGQUERY_DATASET_REGION = \"us\"\n",
    "BIGQUERY_PROJECT_ID, BIGQUERY_DATASET, BIGQUERY_DATASET_REGION, BIGQUERY_TABLE"
   ]
  },
  {
   "cell_type": "code",
   "execution_count": 6,
   "id": "3cb8efc4-9e94-4b78-904e-eae75b771181",
   "metadata": {},
   "outputs": [
    {
     "data": {
      "text/plain": [
       "('datafusionsbox', 'us-central1')"
      ]
     },
     "execution_count": 6,
     "metadata": {},
     "output_type": "execute_result"
    }
   ],
   "source": [
    "shell_output = !gcloud config list --format 'value(core.project)' 2>/dev/null\n",
    "VERTEXAI_PROJECT_ID = shell_output[0]\n",
    "VERTEXAI_REGION = \"us-central1\"\n",
    "VERTEXAI_PROJECT_ID, VERTEXAI_REGION "
   ]
  },
  {
   "cell_type": "code",
   "execution_count": 7,
   "id": "64db1678-f0d7-4021-acc5-ff59142b107b",
   "metadata": {},
   "outputs": [
    {
     "data": {
      "text/plain": [
       "('gcp-demo-ccc-vertexai', 'gs://gcp-demo-ccc-vertexai')"
      ]
     },
     "execution_count": 7,
     "metadata": {},
     "output_type": "execute_result"
    }
   ],
   "source": [
    "BUCKET_NAME = f\"gcp-demo-{PREFIX}-vertexai\"\n",
    "BUCKET_URI = f\"gs://{BUCKET_NAME}\"\n",
    "\n",
    "BUCKET_NAME, BUCKET_URI"
   ]
  },
  {
   "cell_type": "code",
   "execution_count": 10,
   "id": "cca1dee8-14e4-4796-9bd3-b9dfb88e1fe9",
   "metadata": {},
   "outputs": [
    {
     "name": "stdout",
     "output_type": "stream",
     "text": [
      "Creating gs://gcp-demo-ccc-vertexai/...\n",
      "ServiceException: 409 A Cloud Storage bucket named 'gcp-demo-ccc-vertexai' already exists. Try another name. Bucket names must be globally unique across all Google Cloud projects, including those outside of your organization.\n"
     ]
    }
   ],
   "source": [
    "! gsutil mb -l $VERTEXAI_REGION -p $VERTEXAI_PROJECT_ID $BUCKET_URI"
   ]
  },
  {
   "cell_type": "markdown",
   "id": "f48abf06-c791-4333-9883-d1c26266f3a2",
   "metadata": {},
   "source": [
    "## Dotenv is a zero-dependency module that loads environment variables from a .env file"
   ]
  },
  {
   "cell_type": "code",
   "execution_count": 8,
   "id": "bd7662a2-5c5b-4af7-beec-fd948592ec44",
   "metadata": {},
   "outputs": [],
   "source": [
    "f = open(\".env\", \"w\")\n",
    "f.write(\"BIGQUERY_PROJECT_ID=\"+str(BIGQUERY_PROJECT_ID)+\"\\n\")\n",
    "f.write(\"BIGQUERY_DATASET=\"+str(BIGQUERY_DATASET)+\"\\n\")\n",
    "f.write(\"BIGQUERY_DATASET_REGION=\"+str(BIGQUERY_DATASET_REGION)+\"\\n\")\n",
    "f.write(\"BIGQUERY_TABLE=\"+str(BIGQUERY_TABLE)+\"\\n\")\n",
    "\n",
    "f.write(\"VERTEXAI_PROJECT_ID=\"+str(VERTEXAI_PROJECT_ID)+\"\\n\")\n",
    "f.write(\"VERTEXAI_REGION=\"+str(VERTEXAI_REGION)+\"\\n\")\n",
    "\n",
    "f.write(\"BUCKET_NAME=\"+str(BUCKET_NAME)+\"\\n\")\n",
    "f.write(\"BUCKET_URI=\"+str(BUCKET_URI)+\"\\n\")\n",
    "f.write(\"BUCKET_REGION=\"+str(VERTEXAI_REGION)+\"\\n\")\n",
    "\n",
    "f.write(\"PREFIX=\"+str(PREFIX)+\"\\n\")\n",
    "f.close()"
   ]
  },
  {
   "cell_type": "code",
   "execution_count": 9,
   "id": "31b9d8ee-6198-4290-9168-cac487b73176",
   "metadata": {},
   "outputs": [
    {
     "data": {
      "text/plain": [
       "True"
      ]
     },
     "execution_count": 9,
     "metadata": {},
     "output_type": "execute_result"
    }
   ],
   "source": [
    "from dotenv import load_dotenv\n",
    "load_dotenv(dotenv_path='.env', verbose=True)"
   ]
  },
  {
   "cell_type": "code",
   "execution_count": 10,
   "id": "82e9654d-99c8-4200-8f4b-6a45a4a36623",
   "metadata": {},
   "outputs": [
    {
     "name": "stdout",
     "output_type": "stream",
     "text": [
      "BIGQUERY_PROJECT_ID:  datafusionsbox\n",
      "BIGQUERY_DATASET:  dataset4ccc\n",
      "BIGQUERY_DATASET_REGION:  us\n",
      "BIGQUERY_TABLE:  df_for_model_ccc_with_weights\n",
      "VERTEXAI_PROJECT_ID:  datafusionsbox\n",
      "VERTEXAI_REGION:  us-central1\n",
      "BUCKET_NAME:  gcp-demo-ccc-vertexai\n",
      "BUCKET_URI:  gcp-demo-ccc-vertexai\n",
      "BUCKET_REGION:  us-central1\n"
     ]
    }
   ],
   "source": [
    "import os\n",
    "BIGQUERY_PROJECT_ID = os.environ.get('BIGQUERY_PROJECT_ID')\n",
    "BIGQUERY_DATASET = os.environ.get('BIGQUERY_DATASET')\n",
    "BIGQUERY_DATASET_REGION = os.environ.get('BIGQUERY_DATASET_REGION')\n",
    "BIGQUERY_TABLE = os.environ.get('BIGQUERY_TABLE')\n",
    "\n",
    "VERTEXAI_PROJECT_ID = os.environ.get('VERTEXAI_PROJECT_ID')\n",
    "VERTEXAI_REGION = os.environ.get('VERTEXAI_REGION')\n",
    "\n",
    "BUCKET_NAME = os.environ.get('BUCKET_NAME')\n",
    "BUCKET_URI = os.environ.get('BUCKET_URI')\n",
    "BUCKET_REGION = os.environ.get('BUCKET_REGION')\n",
    "\n",
    "PREFIX = os.environ.get('PREFIX')\n",
    "\n",
    "print(\"BIGQUERY_PROJECT_ID: \",BIGQUERY_PROJECT_ID)\n",
    "print(\"BIGQUERY_DATASET: \",BIGQUERY_DATASET)\n",
    "print(\"BIGQUERY_DATASET_REGION: \",BIGQUERY_DATASET_REGION)\n",
    "print(\"BIGQUERY_TABLE: \",BIGQUERY_TABLE)\n",
    "\n",
    "print(\"VERTEXAI_PROJECT_ID: \",VERTEXAI_PROJECT_ID)\n",
    "print(\"VERTEXAI_REGION: \",VERTEXAI_REGION)\n",
    "\n",
    "print(\"BUCKET_NAME: \",BUCKET_NAME)\n",
    "print(\"BUCKET_URI: \",BUCKET_NAME)\n",
    "print(\"BUCKET_REGION: \",VERTEXAI_REGION)"
   ]
  },
  {
   "cell_type": "code",
   "execution_count": null,
   "id": "d332dbed-303f-41c5-ab86-56184d571dab",
   "metadata": {},
   "outputs": [],
   "source": []
  }
 ],
 "metadata": {
  "environment": {
   "name": "tf2-gpu.2-3.m80",
   "type": "gcloud",
   "uri": "gcr.io/deeplearning-platform-release/tf2-gpu.2-3:m80"
  },
  "kernelspec": {
   "display_name": "Python 3",
   "language": "python",
   "name": "python3"
  },
  "language_info": {
   "codemirror_mode": {
    "name": "ipython",
    "version": 3
   },
   "file_extension": ".py",
   "mimetype": "text/x-python",
   "name": "python",
   "nbconvert_exporter": "python",
   "pygments_lexer": "ipython3",
   "version": "3.7.10"
  }
 },
 "nbformat": 4,
 "nbformat_minor": 5
}

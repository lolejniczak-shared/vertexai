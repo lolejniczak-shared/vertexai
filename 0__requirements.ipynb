{
 "cells": [
  {
   "cell_type": "markdown",
   "id": "3937ac29-c9a5-4814-9a3d-914bd119a199",
   "metadata": {},
   "source": [
    "### Open terminal and create new environment for KFP2"
   ]
  },
  {
   "cell_type": "raw",
   "id": "d2dc6eaf-9c88-4ca7-8521-340162dae9a5",
   "metadata": {
    "jupyter": {
     "outputs_hidden": true
    },
    "tags": []
   },
   "source": [
    "### Go to terminal\n",
    "conda env list\n",
    "conda create -n kfp2 python=3.8"
   ]
  },
  {
   "cell_type": "code",
   "execution_count": 22,
   "id": "0c302b3e-d585-4854-892f-bf4472ad73fd",
   "metadata": {},
   "outputs": [
    {
     "name": "stdout",
     "output_type": "stream",
     "text": [
      "Overwriting requirements-kfp18.txt\n"
     ]
    }
   ],
   "source": [
    "%%writefile requirements-kfp18.txt\n",
    "kfp==1.8.14\n",
    "google-cloud-pipeline-components==1.0.33\n",
    "google-cloud-storage<2\n",
    "google-cloud-aiplatform>=1.21.0\n",
    "google-cloud-aiplatform[prediction]>=1.16.0\n",
    "fastapi\n",
    "protobuf>=3.9.2\n",
    "tensorflow==2.4\n",
    "keras-tuner\n",
    "uvicorn==0.17.6\n",
    "joblib~=1.0\n",
    "numpy~=1.19.2\n",
    "scikit-learn~=0.24"
   ]
  },
  {
   "cell_type": "code",
   "execution_count": 23,
   "id": "8fdbb595-8133-417c-b76f-c34f591bb617",
   "metadata": {},
   "outputs": [
    {
     "name": "stdout",
     "output_type": "stream",
     "text": [
      "Overwriting requirements-kfp2.txt\n"
     ]
    }
   ],
   "source": [
    "%%writefile requirements-kfp2.txt\n",
    "kfp==2.0.0b12\n",
    "google-cloud-pipeline-components==1.0.33\n",
    "google-cloud-storage>=2.2.1\n",
    "google-cloud-aiplatform>=1.21.0\n",
    "google-cloud-aiplatform[prediction]>=1.16.0\n",
    "fastapi\n",
    "protobuf>=3.9.2\n",
    "tensorflow==2.4\n",
    "keras-tuner\n",
    "uvicorn==0.17.6\n",
    "joblib~=1.0\n",
    "numpy~=1.19.2\n",
    "scikit-learn~=0.24"
   ]
  },
  {
   "cell_type": "raw",
   "id": "aa1f765f-911c-4721-afdd-73e8d174894f",
   "metadata": {},
   "source": [
    "### Go to terminal\n",
    "conda activate base\n",
    "pip install -r requirements-kfp18.txt"
   ]
  },
  {
   "cell_type": "raw",
   "id": "d60afc9c-bbc3-4a05-9969-9094d76fe37d",
   "metadata": {},
   "source": [
    "### Go to terminal\n",
    "conda activate kfp2\n",
    "pip install -r requirements-kfp2.txt\n",
    "conda install ipykernel"
   ]
  },
  {
   "cell_type": "code",
   "execution_count": 2,
   "id": "ac464685-7a69-4856-9c2a-076511abe929",
   "metadata": {},
   "outputs": [
    {
     "name": "stdout",
     "output_type": "stream",
     "text": [
      "KFP SDK version: 1.8.14\n"
     ]
    }
   ],
   "source": [
    "import kfp\n",
    "print('KFP SDK version: {}'.format(kfp.__version__))"
   ]
  },
  {
   "cell_type": "code",
   "execution_count": 1,
   "id": "f681c906-2fcc-4ec5-b169-465266f7ab11",
   "metadata": {},
   "outputs": [
    {
     "name": "stdout",
     "output_type": "stream",
     "text": [
      "# conda environments:\n",
      "#\n",
      "base                  *  /opt/conda\n",
      "kfp2                     /opt/conda/envs/kfp2\n",
      "\n",
      "\n",
      "Note: you may need to restart the kernel to use updated packages.\n"
     ]
    }
   ],
   "source": [
    "conda env list"
   ]
  },
  {
   "cell_type": "markdown",
   "id": "6cfe22b0-d68c-412a-9d55-f0e7e8776c4d",
   "metadata": {},
   "source": [
    "## https://cloud.google.com/vertex-ai/docs/pipelines/gcpc-list"
   ]
  },
  {
   "cell_type": "code",
   "execution_count": 3,
   "id": "c59ec761-c7b1-423e-a661-4421575d37ef",
   "metadata": {},
   "outputs": [
    {
     "name": "stdout",
     "output_type": "stream",
     "text": [
      "google_cloud_pipeline_components version: 1.0.33\n"
     ]
    }
   ],
   "source": [
    "import google_cloud_pipeline_components\n",
    "print('google_cloud_pipeline_components version: {}'.format(google_cloud_pipeline_components.__version__))"
   ]
  },
  {
   "cell_type": "markdown",
   "id": "52c67a89-a91b-4de7-afb1-3a9484318415",
   "metadata": {},
   "source": [
    "### Auxiliary variables"
   ]
  },
  {
   "cell_type": "code",
   "execution_count": 4,
   "id": "f79cd9d0-0f80-4615-963d-83d5708cd506",
   "metadata": {},
   "outputs": [],
   "source": [
    "PREFIX = \"ccc\""
   ]
  },
  {
   "cell_type": "code",
   "execution_count": 5,
   "id": "e69b6bbb-44b4-4047-a189-6503208de4b3",
   "metadata": {},
   "outputs": [
    {
     "data": {
      "text/plain": [
       "('datafusionsbox', 'dataset4ccc', 'us', 'df_for_model_ccc_with_weights')"
      ]
     },
     "execution_count": 5,
     "metadata": {},
     "output_type": "execute_result"
    }
   ],
   "source": [
    "BIGQUERY_PROJECT_ID = \"datafusionsbox\"\n",
    "BIGQUERY_DATASET = \"dataset4ccc\"\n",
    "BIGQUERY_TABLE = \"df_for_model_ccc_with_weights\"  ###\"df_for_model_ccc_total\"\n",
    "BIGQUERY_DATASET_REGION = \"us\"\n",
    "BIGQUERY_PROJECT_ID, BIGQUERY_DATASET, BIGQUERY_DATASET_REGION, BIGQUERY_TABLE"
   ]
  },
  {
   "cell_type": "code",
   "execution_count": 6,
   "id": "3cb8efc4-9e94-4b78-904e-eae75b771181",
   "metadata": {},
   "outputs": [
    {
     "data": {
      "text/plain": [
       "('datafusionsbox', 'us-central1')"
      ]
     },
     "execution_count": 6,
     "metadata": {},
     "output_type": "execute_result"
    }
   ],
   "source": [
    "shell_output = !gcloud config list --format 'value(core.project)' 2>/dev/null\n",
    "VERTEXAI_PROJECT_ID = shell_output[0]\n",
    "VERTEXAI_REGION = \"us-central1\"\n",
    "VERTEXAI_PROJECT_ID, VERTEXAI_REGION "
   ]
  },
  {
   "cell_type": "code",
   "execution_count": 7,
   "id": "64db1678-f0d7-4021-acc5-ff59142b107b",
   "metadata": {},
   "outputs": [
    {
     "data": {
      "text/plain": [
       "('gcp-demo-ccc-vertexai', 'gs://gcp-demo-ccc-vertexai')"
      ]
     },
     "execution_count": 7,
     "metadata": {},
     "output_type": "execute_result"
    }
   ],
   "source": [
    "BUCKET_NAME = f\"gcp-demo-{PREFIX}-vertexai\"\n",
    "BUCKET_URI = f\"gs://{BUCKET_NAME}\"\n",
    "\n",
    "BUCKET_NAME, BUCKET_URI"
   ]
  },
  {
   "cell_type": "code",
   "execution_count": 10,
   "id": "cca1dee8-14e4-4796-9bd3-b9dfb88e1fe9",
   "metadata": {},
   "outputs": [
    {
     "name": "stdout",
     "output_type": "stream",
     "text": [
      "Creating gs://gcp-demo-ccc-vertexai/...\n",
      "ServiceException: 409 A Cloud Storage bucket named 'gcp-demo-ccc-vertexai' already exists. Try another name. Bucket names must be globally unique across all Google Cloud projects, including those outside of your organization.\n"
     ]
    }
   ],
   "source": [
    "! gsutil mb -l $VERTEXAI_REGION -p $VERTEXAI_PROJECT_ID $BUCKET_URI"
   ]
  },
  {
   "cell_type": "markdown",
   "id": "f48abf06-c791-4333-9883-d1c26266f3a2",
   "metadata": {},
   "source": [
    "## Dotenv is a zero-dependency module that loads environment variables from a .env file"
   ]
  },
  {
   "cell_type": "code",
   "execution_count": 8,
   "id": "bd7662a2-5c5b-4af7-beec-fd948592ec44",
   "metadata": {},
   "outputs": [],
   "source": [
    "f = open(\".env\", \"w\")\n",
    "f.write(\"BIGQUERY_PROJECT_ID=\"+str(BIGQUERY_PROJECT_ID)+\"\\n\")\n",
    "f.write(\"BIGQUERY_DATASET=\"+str(BIGQUERY_DATASET)+\"\\n\")\n",
    "f.write(\"BIGQUERY_DATASET_REGION=\"+str(BIGQUERY_DATASET_REGION)+\"\\n\")\n",
    "f.write(\"BIGQUERY_TABLE=\"+str(BIGQUERY_TABLE)+\"\\n\")\n",
    "\n",
    "f.write(\"VERTEXAI_PROJECT_ID=\"+str(VERTEXAI_PROJECT_ID)+\"\\n\")\n",
    "f.write(\"VERTEXAI_REGION=\"+str(VERTEXAI_REGION)+\"\\n\")\n",
    "\n",
    "f.write(\"BUCKET_NAME=\"+str(BUCKET_NAME)+\"\\n\")\n",
    "f.write(\"BUCKET_URI=\"+str(BUCKET_URI)+\"\\n\")\n",
    "f.write(\"BUCKET_REGION=\"+str(VERTEXAI_REGION)+\"\\n\")\n",
    "\n",
    "f.write(\"PREFIX=\"+str(PREFIX)+\"\\n\")\n",
    "f.close()"
   ]
  },
  {
   "cell_type": "code",
   "execution_count": 9,
   "id": "31b9d8ee-6198-4290-9168-cac487b73176",
   "metadata": {},
   "outputs": [
    {
     "data": {
      "text/plain": [
       "True"
      ]
     },
     "execution_count": 9,
     "metadata": {},
     "output_type": "execute_result"
    }
   ],
   "source": [
    "from dotenv import load_dotenv\n",
    "load_dotenv(dotenv_path='.env', verbose=True)"
   ]
  },
  {
   "cell_type": "code",
   "execution_count": 10,
   "id": "82e9654d-99c8-4200-8f4b-6a45a4a36623",
   "metadata": {},
   "outputs": [
    {
     "name": "stdout",
     "output_type": "stream",
     "text": [
      "BIGQUERY_PROJECT_ID:  datafusionsbox\n",
      "BIGQUERY_DATASET:  dataset4ccc\n",
      "BIGQUERY_DATASET_REGION:  us\n",
      "BIGQUERY_TABLE:  df_for_model_ccc_with_weights\n",
      "VERTEXAI_PROJECT_ID:  datafusionsbox\n",
      "VERTEXAI_REGION:  us-central1\n",
      "BUCKET_NAME:  gcp-demo-ccc-vertexai\n",
      "BUCKET_URI:  gcp-demo-ccc-vertexai\n",
      "BUCKET_REGION:  us-central1\n"
     ]
    }
   ],
   "source": [
    "import os\n",
    "BIGQUERY_PROJECT_ID = os.environ.get('BIGQUERY_PROJECT_ID')\n",
    "BIGQUERY_DATASET = os.environ.get('BIGQUERY_DATASET')\n",
    "BIGQUERY_DATASET_REGION = os.environ.get('BIGQUERY_DATASET_REGION')\n",
    "BIGQUERY_TABLE = os.environ.get('BIGQUERY_TABLE')\n",
    "\n",
    "VERTEXAI_PROJECT_ID = os.environ.get('VERTEXAI_PROJECT_ID')\n",
    "VERTEXAI_REGION = os.environ.get('VERTEXAI_REGION')\n",
    "\n",
    "BUCKET_NAME = os.environ.get('BUCKET_NAME')\n",
    "BUCKET_URI = os.environ.get('BUCKET_URI')\n",
    "BUCKET_REGION = os.environ.get('BUCKET_REGION')\n",
    "\n",
    "PREFIX = os.environ.get('PREFIX')\n",
    "\n",
    "print(\"BIGQUERY_PROJECT_ID: \",BIGQUERY_PROJECT_ID)\n",
    "print(\"BIGQUERY_DATASET: \",BIGQUERY_DATASET)\n",
    "print(\"BIGQUERY_DATASET_REGION: \",BIGQUERY_DATASET_REGION)\n",
    "print(\"BIGQUERY_TABLE: \",BIGQUERY_TABLE)\n",
    "\n",
    "print(\"VERTEXAI_PROJECT_ID: \",VERTEXAI_PROJECT_ID)\n",
    "print(\"VERTEXAI_REGION: \",VERTEXAI_REGION)\n",
    "\n",
    "print(\"BUCKET_NAME: \",BUCKET_NAME)\n",
    "print(\"BUCKET_URI: \",BUCKET_NAME)\n",
    "print(\"BUCKET_REGION: \",VERTEXAI_REGION)"
   ]
  },
  {
   "cell_type": "code",
   "execution_count": null,
   "id": "d332dbed-303f-41c5-ab86-56184d571dab",
   "metadata": {},
   "outputs": [],
   "source": []
  }
 ],
 "metadata": {
  "environment": {
   "name": "tf2-gpu.2-3.m80",
   "type": "gcloud",
   "uri": "gcr.io/deeplearning-platform-release/tf2-gpu.2-3:m80"
  },
  "kernelspec": {
   "display_name": "Python [conda env:root] *",
   "language": "python",
   "name": "conda-root-py"
  },
  "language_info": {
   "codemirror_mode": {
    "name": "ipython",
    "version": 3
   },
   "file_extension": ".py",
   "mimetype": "text/x-python",
   "name": "python",
   "nbconvert_exporter": "python",
   "pygments_lexer": "ipython3",
   "version": "3.7.10"
  }
 },
 "nbformat": 4,
 "nbformat_minor": 5
}

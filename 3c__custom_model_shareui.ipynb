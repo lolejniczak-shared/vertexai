{
 "cells": [
  {
   "cell_type": "code",
   "execution_count": null,
   "id": "b1f13b05-f89c-42c5-81fe-3c6a7869b61e",
   "metadata": {},
   "outputs": [],
   "source": [
    "https://gradio.app/docs/"
   ]
  },
  {
   "cell_type": "code",
   "execution_count": null,
   "id": "df70d54c-f6f9-49bc-8ef4-37b92e13626d",
   "metadata": {},
   "outputs": [],
   "source": [
    "!pip install gradio"
   ]
  },
  {
   "cell_type": "code",
   "execution_count": 37,
   "id": "977a748b-71ca-4e1a-bc8a-53c1e47fd21b",
   "metadata": {},
   "outputs": [
    {
     "data": {
      "text/plain": [
       "True"
      ]
     },
     "execution_count": 37,
     "metadata": {},
     "output_type": "execute_result"
    }
   ],
   "source": [
    "from dotenv import load_dotenv\n",
    "load_dotenv(dotenv_path='.env', verbose=True)"
   ]
  },
  {
   "cell_type": "code",
   "execution_count": 38,
   "id": "3d834104-9636-4c54-8059-0abb69d4a3ee",
   "metadata": {},
   "outputs": [
    {
     "name": "stdout",
     "output_type": "stream",
     "text": [
      "BIGQUERY_PROJECT_ID:  datafusionsbox\n",
      "BIGQUERY_DATASET:  dataset4ccc\n",
      "BIGQUERY_DATASET_REGION:  us\n",
      "BIGQUERY_TABLE:  df_for_model_ccc_with_weights\n",
      "VERTEXAI_PROJECT_ID:  datafusionsbox\n",
      "VERTEXAI_REGION:  us-central1\n",
      "BUCKET_NAME:  gcp-demo-ccc-vertexai\n",
      "BUCKET_URI:  gcp-demo-ccc-vertexai\n",
      "BUCKET_REGION:  us-central1\n"
     ]
    }
   ],
   "source": [
    "import os\n",
    "\n",
    "BIGQUERY_PROJECT_ID = os.environ.get('BIGQUERY_PROJECT_ID')\n",
    "BIGQUERY_DATASET = os.environ.get('BIGQUERY_DATASET')\n",
    "BIGQUERY_DATASET_REGION = os.environ.get('BIGQUERY_DATASET_REGION')\n",
    "BIGQUERY_TABLE = os.environ.get('BIGQUERY_TABLE')\n",
    "\n",
    "VERTEXAI_PROJECT_ID = os.environ.get('VERTEXAI_PROJECT_ID')\n",
    "VERTEXAI_REGION = os.environ.get('VERTEXAI_REGION')\n",
    "\n",
    "BUCKET_NAME = os.environ.get('BUCKET_NAME')\n",
    "BUCKET_URI = os.environ.get('BUCKET_URI')\n",
    "BUCKET_REGION = os.environ.get('BUCKET_REGION')\n",
    "\n",
    "PREFIX = os.environ.get('PREFIX')\n",
    "\n",
    "\n",
    "print(\"BIGQUERY_PROJECT_ID: \",BIGQUERY_PROJECT_ID)\n",
    "print(\"BIGQUERY_DATASET: \",BIGQUERY_DATASET)\n",
    "print(\"BIGQUERY_DATASET_REGION: \",BIGQUERY_DATASET_REGION)\n",
    "print(\"BIGQUERY_TABLE: \",BIGQUERY_TABLE)\n",
    "\n",
    "print(\"VERTEXAI_PROJECT_ID: \",VERTEXAI_PROJECT_ID)\n",
    "print(\"VERTEXAI_REGION: \",VERTEXAI_REGION)\n",
    "\n",
    "print(\"BUCKET_NAME: \",BUCKET_NAME)\n",
    "print(\"BUCKET_URI: \",BUCKET_NAME)\n",
    "print(\"BUCKET_REGION: \",VERTEXAI_REGION)\n",
    "\n",
    "\n",
    "PIPELINE_ROOT = 'gs://{}/pipeline_root'.format(BUCKET_NAME)"
   ]
  },
  {
   "cell_type": "code",
   "execution_count": 6,
   "id": "2d04cc1a-acb2-46c3-874b-71fc750195a4",
   "metadata": {},
   "outputs": [
    {
     "name": "stdout",
     "output_type": "stream",
     "text": [
      "Got table 'datafusionsbox.dataset4ccc.df_for_model_ccc_with_weights'.\n"
     ]
    }
   ],
   "source": [
    "from google.cloud import bigquery\n",
    "\n",
    "table_id = f\"{BIGQUERY_PROJECT_ID}.{BIGQUERY_DATASET}.{BIGQUERY_TABLE}\"\n",
    "\n",
    "client = bigquery.Client()\n",
    "table = client.get_table(table_id)  # Make an API request.\n",
    "\n",
    "print(\n",
    "    \"Got table '{}.{}.{}'.\".format(table.project, table.dataset_id, table.table_id)\n",
    ")"
   ]
  },
  {
   "cell_type": "code",
   "execution_count": 7,
   "id": "2269bd37-0344-4752-a5dc-2edf9c9dc849",
   "metadata": {},
   "outputs": [],
   "source": [
    "import gradio as gr\n",
    "import requests"
   ]
  },
  {
   "cell_type": "code",
   "execution_count": 62,
   "id": "02903a6c-2190-4d6a-8582-10c277a88dc1",
   "metadata": {},
   "outputs": [],
   "source": [
    "_excluded_columns = [\"synerise_client_id\", \"weight\", \"y_if_trans\"]\n",
    "\n",
    "finputs= []\n",
    "for schema_field in table.schema:\n",
    "    if schema_field.name not in _excluded_columns:\n",
    "       finputs.append(gr.Slider(2, 200, label = schema_field.name, value = 4))"
   ]
  },
  {
   "cell_type": "code",
   "execution_count": 45,
   "id": "aee510e0-3db1-46dc-8909-ac18c51b88dd",
   "metadata": {},
   "outputs": [
    {
     "name": "stdout",
     "output_type": "stream",
     "text": [
      "SELECT * EXCEPT (synerise_client_id,weight,y_if_trans) FROM datafusionsbox.dataset4ccc.df_for_model_ccc_with_weights LIMIT 5\n"
     ]
    }
   ],
   "source": [
    "client = bigquery.Client()\n",
    "    \n",
    "    \n",
    "query = f\"SELECT * EXCEPT ({','.join(_excluded_columns)}) FROM {BIGQUERY_PROJECT_ID}.{BIGQUERY_DATASET}.{BIGQUERY_TABLE} LIMIT 5\"\n",
    "print(query)\n",
    "    \n",
    "## fetch query results as dataframe\n",
    "dataframe = client.query(query).to_dataframe()"
   ]
  },
  {
   "cell_type": "code",
   "execution_count": 72,
   "id": "c2ef1679-04d4-46e0-8c28-c0e3767f98ca",
   "metadata": {},
   "outputs": [
    {
     "data": {
      "text/html": [
       "<div>\n",
       "<style scoped>\n",
       "    .dataframe tbody tr th:only-of-type {\n",
       "        vertical-align: middle;\n",
       "    }\n",
       "\n",
       "    .dataframe tbody tr th {\n",
       "        vertical-align: top;\n",
       "    }\n",
       "\n",
       "    .dataframe thead th {\n",
       "        text-align: right;\n",
       "    }\n",
       "</style>\n",
       "<table border=\"1\" class=\"dataframe\">\n",
       "  <thead>\n",
       "    <tr style=\"text-align: right;\">\n",
       "      <th></th>\n",
       "      <th>www_visits_month_freq_1</th>\n",
       "      <th>www_visits_month_freq_2</th>\n",
       "      <th>www_visits_month_freq_3</th>\n",
       "      <th>www_pages_visited_month_1</th>\n",
       "      <th>www_pages_visited_month_2</th>\n",
       "      <th>www_pages_visited_month_3</th>\n",
       "      <th>www_time_onsite_avg_month_1</th>\n",
       "      <th>www_time_onsite_avg_month_2</th>\n",
       "      <th>www_time_onsite_avg_month_3</th>\n",
       "      <th>www_trans_month_freq_1</th>\n",
       "      <th>...</th>\n",
       "      <th>app_add_to_wishlist_month_freq_1</th>\n",
       "      <th>app_add_to_wishlist_month_freq_2</th>\n",
       "      <th>app_add_to_wishlist_month_freq_3</th>\n",
       "      <th>app_search_freq_month_freq_1</th>\n",
       "      <th>app_search_freq_month_freq_2</th>\n",
       "      <th>app_search_freq_month_freq_3</th>\n",
       "      <th>crm_club_level_id</th>\n",
       "      <th>crm_store_purchase_month_freq_1</th>\n",
       "      <th>crm_store_purchase_month_freq_2</th>\n",
       "      <th>crm_store_purchase_month_freq_3</th>\n",
       "    </tr>\n",
       "  </thead>\n",
       "  <tbody>\n",
       "    <tr>\n",
       "      <th>0</th>\n",
       "      <td>0</td>\n",
       "      <td>0</td>\n",
       "      <td>0</td>\n",
       "      <td>0</td>\n",
       "      <td>0</td>\n",
       "      <td>0</td>\n",
       "      <td>0.0</td>\n",
       "      <td>0.0</td>\n",
       "      <td>0.0</td>\n",
       "      <td>0</td>\n",
       "      <td>...</td>\n",
       "      <td>14</td>\n",
       "      <td>9</td>\n",
       "      <td>0</td>\n",
       "      <td>6</td>\n",
       "      <td>12</td>\n",
       "      <td>8</td>\n",
       "      <td>3</td>\n",
       "      <td>0</td>\n",
       "      <td>1</td>\n",
       "      <td>0</td>\n",
       "    </tr>\n",
       "    <tr>\n",
       "      <th>1</th>\n",
       "      <td>0</td>\n",
       "      <td>0</td>\n",
       "      <td>0</td>\n",
       "      <td>0</td>\n",
       "      <td>0</td>\n",
       "      <td>0</td>\n",
       "      <td>0.0</td>\n",
       "      <td>0.0</td>\n",
       "      <td>0.0</td>\n",
       "      <td>0</td>\n",
       "      <td>...</td>\n",
       "      <td>0</td>\n",
       "      <td>5</td>\n",
       "      <td>0</td>\n",
       "      <td>0</td>\n",
       "      <td>0</td>\n",
       "      <td>0</td>\n",
       "      <td>1</td>\n",
       "      <td>0</td>\n",
       "      <td>0</td>\n",
       "      <td>0</td>\n",
       "    </tr>\n",
       "    <tr>\n",
       "      <th>2</th>\n",
       "      <td>0</td>\n",
       "      <td>0</td>\n",
       "      <td>0</td>\n",
       "      <td>0</td>\n",
       "      <td>0</td>\n",
       "      <td>0</td>\n",
       "      <td>0.0</td>\n",
       "      <td>0.0</td>\n",
       "      <td>0.0</td>\n",
       "      <td>0</td>\n",
       "      <td>...</td>\n",
       "      <td>0</td>\n",
       "      <td>1</td>\n",
       "      <td>0</td>\n",
       "      <td>0</td>\n",
       "      <td>1</td>\n",
       "      <td>0</td>\n",
       "      <td>3</td>\n",
       "      <td>0</td>\n",
       "      <td>1</td>\n",
       "      <td>1</td>\n",
       "    </tr>\n",
       "    <tr>\n",
       "      <th>3</th>\n",
       "      <td>0</td>\n",
       "      <td>0</td>\n",
       "      <td>0</td>\n",
       "      <td>0</td>\n",
       "      <td>0</td>\n",
       "      <td>0</td>\n",
       "      <td>0.0</td>\n",
       "      <td>0.0</td>\n",
       "      <td>0.0</td>\n",
       "      <td>0</td>\n",
       "      <td>...</td>\n",
       "      <td>0</td>\n",
       "      <td>0</td>\n",
       "      <td>0</td>\n",
       "      <td>8</td>\n",
       "      <td>8</td>\n",
       "      <td>3</td>\n",
       "      <td>0</td>\n",
       "      <td>0</td>\n",
       "      <td>0</td>\n",
       "      <td>0</td>\n",
       "    </tr>\n",
       "    <tr>\n",
       "      <th>4</th>\n",
       "      <td>0</td>\n",
       "      <td>0</td>\n",
       "      <td>0</td>\n",
       "      <td>0</td>\n",
       "      <td>0</td>\n",
       "      <td>0</td>\n",
       "      <td>0.0</td>\n",
       "      <td>0.0</td>\n",
       "      <td>0.0</td>\n",
       "      <td>0</td>\n",
       "      <td>...</td>\n",
       "      <td>0</td>\n",
       "      <td>0</td>\n",
       "      <td>0</td>\n",
       "      <td>1</td>\n",
       "      <td>2</td>\n",
       "      <td>2</td>\n",
       "      <td>2</td>\n",
       "      <td>0</td>\n",
       "      <td>0</td>\n",
       "      <td>0</td>\n",
       "    </tr>\n",
       "  </tbody>\n",
       "</table>\n",
       "<p>5 rows × 67 columns</p>\n",
       "</div>"
      ],
      "text/plain": [
       "   www_visits_month_freq_1  www_visits_month_freq_2  www_visits_month_freq_3  \\\n",
       "0                        0                        0                        0   \n",
       "1                        0                        0                        0   \n",
       "2                        0                        0                        0   \n",
       "3                        0                        0                        0   \n",
       "4                        0                        0                        0   \n",
       "\n",
       "   www_pages_visited_month_1  www_pages_visited_month_2  \\\n",
       "0                          0                          0   \n",
       "1                          0                          0   \n",
       "2                          0                          0   \n",
       "3                          0                          0   \n",
       "4                          0                          0   \n",
       "\n",
       "   www_pages_visited_month_3  www_time_onsite_avg_month_1  \\\n",
       "0                          0                          0.0   \n",
       "1                          0                          0.0   \n",
       "2                          0                          0.0   \n",
       "3                          0                          0.0   \n",
       "4                          0                          0.0   \n",
       "\n",
       "   www_time_onsite_avg_month_2  www_time_onsite_avg_month_3  \\\n",
       "0                          0.0                          0.0   \n",
       "1                          0.0                          0.0   \n",
       "2                          0.0                          0.0   \n",
       "3                          0.0                          0.0   \n",
       "4                          0.0                          0.0   \n",
       "\n",
       "   www_trans_month_freq_1  ...  app_add_to_wishlist_month_freq_1  \\\n",
       "0                       0  ...                                14   \n",
       "1                       0  ...                                 0   \n",
       "2                       0  ...                                 0   \n",
       "3                       0  ...                                 0   \n",
       "4                       0  ...                                 0   \n",
       "\n",
       "   app_add_to_wishlist_month_freq_2  app_add_to_wishlist_month_freq_3  \\\n",
       "0                                 9                                 0   \n",
       "1                                 5                                 0   \n",
       "2                                 1                                 0   \n",
       "3                                 0                                 0   \n",
       "4                                 0                                 0   \n",
       "\n",
       "   app_search_freq_month_freq_1  app_search_freq_month_freq_2  \\\n",
       "0                             6                            12   \n",
       "1                             0                             0   \n",
       "2                             0                             1   \n",
       "3                             8                             8   \n",
       "4                             1                             2   \n",
       "\n",
       "   app_search_freq_month_freq_3  crm_club_level_id  \\\n",
       "0                             8                  3   \n",
       "1                             0                  1   \n",
       "2                             0                  3   \n",
       "3                             3                  0   \n",
       "4                             2                  2   \n",
       "\n",
       "   crm_store_purchase_month_freq_1  crm_store_purchase_month_freq_2  \\\n",
       "0                                0                                1   \n",
       "1                                0                                0   \n",
       "2                                0                                1   \n",
       "3                                0                                0   \n",
       "4                                0                                0   \n",
       "\n",
       "   crm_store_purchase_month_freq_3  \n",
       "0                                0  \n",
       "1                                0  \n",
       "2                                1  \n",
       "3                                0  \n",
       "4                                0  \n",
       "\n",
       "[5 rows x 67 columns]"
      ]
     },
     "execution_count": 72,
     "metadata": {},
     "output_type": "execute_result"
    }
   ],
   "source": [
    "dataframe.head()"
   ]
  },
  {
   "cell_type": "code",
   "execution_count": 46,
   "id": "9c2e5f36-8937-46c2-b463-5a2e4840c3e2",
   "metadata": {},
   "outputs": [
    {
     "data": {
      "text/plain": [
       "array([[0, 0, 0, 0, 0, 0, 0.0, 0.0, 0.0, 0, 0, 0, 0.0, 0.0, 0.0, 0, 0, 0,\n",
       "        0, 0, 0, 0, 0, 0, 0, 0, 0, 0, 0, 0, 0, 0, 0, 0, 0, 0, 0, 0, 0, 0,\n",
       "        0, 0, 0, 0, 0, 0, 0, 0, 7, 20, 6, 37, 187, 11, 1, 1, 2, 14, 9, 0,\n",
       "        6, 12, 8, 3, 0, 1, 0],\n",
       "       [0, 0, 0, 0, 0, 0, 0.0, 0.0, 0.0, 0, 0, 0, 0.0, 0.0, 0.0, 0, 0, 0,\n",
       "        0, 0, 0, 0, 0, 0, 0, 0, 0, 0, 0, 0, 0, 0, 0, 0, 0, 0, 0, 0, 0, 0,\n",
       "        0, 0, 0, 0, 0, 0, 0, 0, 1, 14, 0, 0, 46, 0, 0, 0, 0, 0, 5, 0, 0,\n",
       "        0, 0, 1, 0, 0, 0],\n",
       "       [0, 0, 0, 0, 0, 0, 0.0, 0.0, 0.0, 0, 0, 0, 0.0, 0.0, 0.0, 0, 0, 0,\n",
       "        0, 0, 0, 0, 0, 0, 0, 0, 0, 0, 0, 0, 0, 0, 0, 0, 0, 0, 0, 0, 0, 0,\n",
       "        0, 0, 0, 0, 0, 0, 0, 0, 13, 14, 0, 26, 34, 0, 5, 4, 0, 0, 1, 0,\n",
       "        0, 1, 0, 3, 0, 1, 1],\n",
       "       [0, 0, 0, 0, 0, 0, 0.0, 0.0, 0.0, 0, 0, 0, 0.0, 0.0, 0.0, 0, 0, 0,\n",
       "        0, 0, 0, 0, 0, 0, 0, 0, 0, 0, 0, 0, 0, 0, 0, 0, 0, 0, 0, 0, 0, 0,\n",
       "        0, 0, 0, 0, 0, 0, 0, 0, 33, 36, 16, 76, 78, 50, 2, 0, 0, 0, 0, 0,\n",
       "        8, 8, 3, 0, 0, 0, 0],\n",
       "       [0, 0, 0, 0, 0, 0, 0.0, 0.0, 0.0, 0, 0, 0, 0.0, 0.0, 0.0, 0, 0, 0,\n",
       "        0, 0, 0, 0, 0, 0, 0, 0, 0, 0, 0, 0, 0, 0, 0, 0, 0, 0, 0, 0, 0, 0,\n",
       "        0, 0, 0, 0, 0, 0, 0, 0, 7, 15, 2, 5, 33, 11, 1, 1, 2, 0, 0, 0, 1,\n",
       "        2, 2, 2, 0, 0, 0]], dtype=object)"
      ]
     },
     "execution_count": 46,
     "metadata": {},
     "output_type": "execute_result"
    }
   ],
   "source": [
    "bqsamples = dataframe.to_numpy()\n",
    "bqsamples"
   ]
  },
  {
   "cell_type": "code",
   "execution_count": 103,
   "id": "24a444fa-0192-4066-83d3-46c431aa3670",
   "metadata": {},
   "outputs": [],
   "source": [
    "examples = dataframe.values.tolist()"
   ]
  },
  {
   "cell_type": "code",
   "execution_count": 106,
   "id": "157b0abf-dfdb-4f2c-8ac7-8317e4748b14",
   "metadata": {},
   "outputs": [
    {
     "name": "stdout",
     "output_type": "stream",
     "text": [
      "Running on local URL:  http://127.0.0.1:7880\n",
      "Running on public URL: https://5426e6f2-7fb3-4cd6.gradio.live\n",
      "\n",
      "This share link expires in 72 hours. For free permanent hosting and GPU upgrades (NEW!), check out Spaces: https://huggingface.co/spaces\n"
     ]
    },
    {
     "data": {
      "text/html": [
       "<div><iframe src=\"https://5426e6f2-7fb3-4cd6.gradio.live\" width=\"100%\" height=\"500\" allow=\"autoplay; camera; microphone; clipboard-read; clipboard-write;\" frameborder=\"0\" allowfullscreen></iframe></div>"
      ],
      "text/plain": [
       "<IPython.core.display.HTML object>"
      ]
     },
     "metadata": {},
     "output_type": "display_data"
    },
    {
     "data": {
      "text/plain": []
     },
     "execution_count": 106,
     "metadata": {},
     "output_type": "execute_result"
    },
    {
     "name": "stdout",
     "output_type": "stream",
     "text": [
      "(0.5, 0, 0, 0, 0, 0, 0, 0, 0, 0, 0, 0, 0, 0, 0, 0, 0, 0, 0, 0, 0, 0, 0, 0, 0, 0, 0, 0, 0, 0, 0, 0, 0, 0, 0, 0, 0, 0, 0, 0, 0, 0, 0, 0, 0, 0, 0, 0, 1, 14, 0, 0, 46, 0, 0, 0, 0, 0, 5, 0, 0, 0, 0, 1, 0, 0, 0, 4)\n",
      "Prediction(predictions=[[0.0481574833]], deployed_model_id='2233288435920011264', model_version_id='3', model_resource_name='projects/339239659794/locations/us-central1/models/1047599285782183936', explanations=None)\n",
      "(0.5, 0, 0, 0, 0, 0, 0, 0, 0, 0, 0, 0, 0, 0, 0, 0, 0, 0, 0, 0, 0, 0, 0, 0, 0, 0, 0, 0, 0, 0, 0, 0, 0, 0, 0, 0, 0, 0, 0, 0, 0, 0, 0, 0, 0, 0, 0, 0, 33, 96, 16, 76, 78, 50, 2, 0, 0, 0, 0, 0, 8, 8, 3, 0, 0, 0, 0, 4)\n",
      "Prediction(predictions=[[0.180093169]], deployed_model_id='2233288435920011264', model_version_id='3', model_resource_name='projects/339239659794/locations/us-central1/models/1047599285782183936', explanations=None)\n"
     ]
    }
   ],
   "source": [
    "import gradio as gr\n",
    "import requests\n",
    "from google.cloud import aiplatform\n",
    "\n",
    "aiplatform.init(\n",
    "    project=VERTEXAI_PROJECT_ID,\n",
    "    location=VERTEXAI_REGION\n",
    ")\n",
    "\n",
    "endpoint_filter_str='labels.experiment_name=\"'+f\"{PREFIX}-experiments\"+'\"'\n",
    "\n",
    "endpoints = aiplatform.Endpoint.list(\n",
    "       filter=endpoint_filter_str,\n",
    ")\n",
    "endpoint = endpoints[0]\n",
    "\n",
    "def greet(*inputs):\n",
    "    print(inputs)\n",
    "    threshold = inputs[0]\n",
    "    instance = inputs[1:]\n",
    "    result = endpoint.predict(instances=[instance])\n",
    "    print(result)\n",
    "    classification_result = False\n",
    "    if result.predictions[0][0] > threshold:\n",
    "        classification_result = True\n",
    "    return classification_result, result.predictions[0], result.deployed_model_id, result.model_version_id, result.model_resource_name\n",
    "\n",
    "    \n",
    "gInputs = [gr.Slider(0, 1, label = 'classification threshold', value = 0.5)]\n",
    "gInputs.extend(finputs)\n",
    "\n",
    "\n",
    "##Prediction(predictions=[[0.00370752811]], deployed_model_id='2233288435920011264', \n",
    "##model_version_id='3', model_resource_name='projects/339239659794/locations/us-central1/models/1047599285782183936', explanations=None\n",
    "gOutputs = [gr.Textbox(label=\"Result\"),\n",
    "            gr.Textbox(label=\"Prediction\"),\n",
    "            gr.Textbox(label=\"Response: deployed model ID\"),\n",
    "            gr.Textbox(label=\"Response: model version ID\"),\n",
    "            gr.Textbox(label=\"Response: model resource name\")\n",
    "           ]\n",
    "\n",
    "demo = gr.Interface(fn=greet, inputs=gInputs, outputs=gOutputs, allow_flagging='never', examples = examples)\n",
    "\n",
    "demo.launch(share=True) "
   ]
  },
  {
   "cell_type": "markdown",
   "id": "c950463f-7bbc-4d69-bd38-d2c7b59d297c",
   "metadata": {},
   "source": [
    "### Debug "
   ]
  },
  {
   "cell_type": "code",
   "execution_count": 105,
   "id": "b6a777c4-ea92-4b27-8294-06988a6fc868",
   "metadata": {},
   "outputs": [],
   "source": [
    "input = examples[0]"
   ]
  },
  {
   "cell_type": "code",
   "execution_count": 95,
   "id": "c51e9329-3968-4783-85f1-3ecaa7f5d311",
   "metadata": {},
   "outputs": [],
   "source": [
    "result = endpoint.predict(instances=[input])"
   ]
  },
  {
   "cell_type": "code",
   "execution_count": 96,
   "id": "a9629b54-aad6-4c37-9567-3e70789b5fd4",
   "metadata": {},
   "outputs": [
    {
     "data": {
      "text/plain": [
       "Prediction(predictions=[[0.163237602]], deployed_model_id='2233288435920011264', model_version_id='3', model_resource_name='projects/339239659794/locations/us-central1/models/1047599285782183936', explanations=None)"
      ]
     },
     "execution_count": 96,
     "metadata": {},
     "output_type": "execute_result"
    }
   ],
   "source": [
    "result"
   ]
  },
  {
   "cell_type": "code",
   "execution_count": 98,
   "id": "3faa4b1f-9d42-4256-95da-017e893046b6",
   "metadata": {},
   "outputs": [
    {
     "data": {
      "text/plain": [
       "0.163237602"
      ]
     },
     "execution_count": 98,
     "metadata": {},
     "output_type": "execute_result"
    }
   ],
   "source": [
    "result.predictions[0][0]"
   ]
  },
  {
   "cell_type": "code",
   "execution_count": null,
   "id": "c42d294a-c863-4d11-abfd-01de84a268e0",
   "metadata": {},
   "outputs": [],
   "source": []
  }
 ],
 "metadata": {
  "environment": {
   "name": "tf2-gpu.2-3.m80",
   "type": "gcloud",
   "uri": "gcr.io/deeplearning-platform-release/tf2-gpu.2-3:m80"
  },
  "kernelspec": {
   "display_name": "Python 3",
   "language": "python",
   "name": "python3"
  },
  "language_info": {
   "codemirror_mode": {
    "name": "ipython",
    "version": 3
   },
   "file_extension": ".py",
   "mimetype": "text/x-python",
   "name": "python",
   "nbconvert_exporter": "python",
   "pygments_lexer": "ipython3",
   "version": "3.7.10"
  }
 },
 "nbformat": 4,
 "nbformat_minor": 5
}

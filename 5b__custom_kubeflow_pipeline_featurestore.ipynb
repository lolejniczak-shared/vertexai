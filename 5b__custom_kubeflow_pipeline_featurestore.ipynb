{
 "cells": [
  {
   "cell_type": "markdown",
   "id": "adeab667-98b5-4913-a9cf-8e77d338f8f1",
   "metadata": {},
   "source": [
    "##### Praca domowa ---> Zmien 3b zeby zamiast czytac z BigQuery brac dane na dany moment z Feature Store. "
   ]
  },
  {
   "cell_type": "code",
   "execution_count": null,
   "id": "b918e1ef-bfb3-475d-89d6-6d785b486db1",
   "metadata": {},
   "outputs": [],
   "source": []
  }
 ],
 "metadata": {
  "environment": {
   "name": "tf2-gpu.2-3.m80",
   "type": "gcloud",
   "uri": "gcr.io/deeplearning-platform-release/tf2-gpu.2-3:m80"
  },
  "kernelspec": {
   "display_name": "Python 3",
   "language": "python",
   "name": "python3"
  },
  "language_info": {
   "codemirror_mode": {
    "name": "ipython",
    "version": 3
   },
   "file_extension": ".py",
   "mimetype": "text/x-python",
   "name": "python",
   "nbconvert_exporter": "python",
   "pygments_lexer": "ipython3",
   "version": "3.7.10"
  }
 },
 "nbformat": 4,
 "nbformat_minor": 5
}

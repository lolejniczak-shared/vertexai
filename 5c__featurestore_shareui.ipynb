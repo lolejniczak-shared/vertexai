{
 "cells": [
  {
   "cell_type": "code",
   "execution_count": null,
   "id": "b1f13b05-f89c-42c5-81fe-3c6a7869b61e",
   "metadata": {},
   "outputs": [],
   "source": [
    "https://gradio.app/docs/"
   ]
  },
  {
   "cell_type": "code",
   "execution_count": null,
   "id": "df70d54c-f6f9-49bc-8ef4-37b92e13626d",
   "metadata": {},
   "outputs": [],
   "source": [
    "!pip install gradio"
   ]
  },
  {
   "cell_type": "code",
   "execution_count": 2,
   "id": "977a748b-71ca-4e1a-bc8a-53c1e47fd21b",
   "metadata": {},
   "outputs": [
    {
     "data": {
      "text/plain": [
       "True"
      ]
     },
     "execution_count": 2,
     "metadata": {},
     "output_type": "execute_result"
    }
   ],
   "source": [
    "from dotenv import load_dotenv\n",
    "load_dotenv(dotenv_path='.env', verbose=True)"
   ]
  },
  {
   "cell_type": "code",
   "execution_count": 3,
   "id": "3d834104-9636-4c54-8059-0abb69d4a3ee",
   "metadata": {},
   "outputs": [
    {
     "name": "stdout",
     "output_type": "stream",
     "text": [
      "BIGQUERY_PROJECT_ID:  datafusionsbox\n",
      "BIGQUERY_DATASET:  dataset4ccc\n",
      "BIGQUERY_DATASET_REGION:  us\n",
      "BIGQUERY_TABLE:  df_for_model_ccc_with_weights\n",
      "VERTEXAI_PROJECT_ID:  datafusionsbox\n",
      "VERTEXAI_REGION:  us-central1\n",
      "BUCKET_NAME:  gcp-demo-ccc-vertexai\n",
      "BUCKET_URI:  gcp-demo-ccc-vertexai\n",
      "BUCKET_REGION:  us-central1\n"
     ]
    }
   ],
   "source": [
    "import os\n",
    "\n",
    "BIGQUERY_PROJECT_ID = os.environ.get('BIGQUERY_PROJECT_ID')\n",
    "BIGQUERY_DATASET = os.environ.get('BIGQUERY_DATASET')\n",
    "BIGQUERY_DATASET_REGION = os.environ.get('BIGQUERY_DATASET_REGION')\n",
    "BIGQUERY_TABLE = os.environ.get('BIGQUERY_TABLE')\n",
    "\n",
    "VERTEXAI_PROJECT_ID = os.environ.get('VERTEXAI_PROJECT_ID')\n",
    "VERTEXAI_REGION = os.environ.get('VERTEXAI_REGION')\n",
    "\n",
    "BUCKET_NAME = os.environ.get('BUCKET_NAME')\n",
    "BUCKET_URI = os.environ.get('BUCKET_URI')\n",
    "BUCKET_REGION = os.environ.get('BUCKET_REGION')\n",
    "\n",
    "PREFIX = os.environ.get('PREFIX')\n",
    "\n",
    "\n",
    "print(\"BIGQUERY_PROJECT_ID: \",BIGQUERY_PROJECT_ID)\n",
    "print(\"BIGQUERY_DATASET: \",BIGQUERY_DATASET)\n",
    "print(\"BIGQUERY_DATASET_REGION: \",BIGQUERY_DATASET_REGION)\n",
    "print(\"BIGQUERY_TABLE: \",BIGQUERY_TABLE)\n",
    "\n",
    "print(\"VERTEXAI_PROJECT_ID: \",VERTEXAI_PROJECT_ID)\n",
    "print(\"VERTEXAI_REGION: \",VERTEXAI_REGION)\n",
    "\n",
    "print(\"BUCKET_NAME: \",BUCKET_NAME)\n",
    "print(\"BUCKET_URI: \",BUCKET_NAME)\n",
    "print(\"BUCKET_REGION: \",VERTEXAI_REGION)\n",
    "\n",
    "\n",
    "PIPELINE_ROOT = 'gs://{}/pipeline_root'.format(BUCKET_NAME)"
   ]
  },
  {
   "cell_type": "code",
   "execution_count": 7,
   "id": "875b5c2e-c8ce-4226-9e76-e0e6485d4bc9",
   "metadata": {},
   "outputs": [],
   "source": [
    "table_id = f\"{BIGQUERY_PROJECT_ID}.{BIGQUERY_DATASET}.{BIGQUERY_TABLE}\"\n",
    "_user_id = \"synerise_client_id\"\n",
    "_target_column=\"y_if_trans\"\n",
    "_weight_column=\"weight\"\n",
    "_excluded_columns = [_user_id, _target_column, _weight_column]"
   ]
  },
  {
   "cell_type": "code",
   "execution_count": 5,
   "id": "f18ed30d-e18a-4dfe-928d-4fc964876aee",
   "metadata": {},
   "outputs": [
    {
     "name": "stdout",
     "output_type": "stream",
     "text": [
      "Got table 'datafusionsbox.dataset4ccc.df_for_model_ccc_with_weights'.\n"
     ]
    }
   ],
   "source": [
    "from google.cloud import bigquery\n",
    "\n",
    "client = bigquery.Client()\n",
    "table = client.get_table(table_id)  # Make an API request.\n",
    "\n",
    "print(\n",
    "    \"Got table '{}.{}.{}'.\".format(table.project, table.dataset_id, table.table_id)\n",
    ")"
   ]
  },
  {
   "cell_type": "code",
   "execution_count": 8,
   "id": "a0fb040b-c8fd-4b29-a976-f39eca25a3cf",
   "metadata": {},
   "outputs": [],
   "source": [
    "_features = []\n",
    "for schema_field in table.schema:\n",
    "    if schema_field.name not in _excluded_columns:\n",
    "        _features.append(schema_field.name)"
   ]
  },
  {
   "cell_type": "code",
   "execution_count": 7,
   "id": "2269bd37-0344-4752-a5dc-2edf9c9dc849",
   "metadata": {},
   "outputs": [],
   "source": [
    "import gradio as gr\n",
    "import requests"
   ]
  },
  {
   "cell_type": "code",
   "execution_count": 22,
   "id": "157b0abf-dfdb-4f2c-8ac7-8317e4748b14",
   "metadata": {},
   "outputs": [
    {
     "name": "stdout",
     "output_type": "stream",
     "text": [
      "name: \"projects/339239659794/locations/us-central1/featurestores/ccc_promotions\"\n",
      "create_time {\n",
      "  seconds: 1676542011\n",
      "  nanos: 997796000\n",
      "}\n",
      "update_time {\n",
      "  seconds: 1676542012\n",
      "  nanos: 528878000\n",
      "}\n",
      "etag: \"AMEw9yOZ-oY5mvvZKJBlzZU-kDqHHJP-30eU-x_o81mnurCbTSDP2dDJeuB4zPfbqHsS\"\n",
      "online_serving_config {\n",
      "  fixed_node_count: 1\n",
      "}\n",
      "state: STABLE\n",
      "\n",
      "Running on local URL:  http://127.0.0.1:7886\n",
      "Running on public URL: https://9553a8ad-f3c4-476c.gradio.live\n",
      "\n",
      "This share link expires in 72 hours. For free permanent hosting and GPU upgrades (NEW!), check out Spaces: https://huggingface.co/spaces\n"
     ]
    },
    {
     "data": {
      "text/html": [
       "<div><iframe src=\"https://9553a8ad-f3c4-476c.gradio.live\" width=\"100%\" height=\"500\" allow=\"autoplay; camera; microphone; clipboard-read; clipboard-write;\" frameborder=\"0\" allowfullscreen></iframe></div>"
      ],
      "text/plain": [
       "<IPython.core.display.HTML object>"
      ]
     },
     "metadata": {},
     "output_type": "display_data"
    },
    {
     "data": {
      "text/plain": []
     },
     "execution_count": 22,
     "metadata": {},
     "output_type": "execute_result"
    },
    {
     "name": "stdout",
     "output_type": "stream",
     "text": [
      "[0, 0, 0, 0, 0, 0, 0.0, 0.0, 0.0, 0, 0, 0, 0.0, 0.0, 0.0, 0, 0, 0, 0, 0, 0, 0, 0, 0, 0, 0, 0, 0, 0, 0, 0, 0, 0, 0, 0, 0, 0, 0, 0, 0, 0, 0, 0, 0, 0, 0, 0, 0, 7, 20, 6, 37, 187, 11, 1, 1, 2, 14, 9, 0, 6, 12, 8, 3, 0, 1, 0]\n",
      "Prediction(predictions=[[0.163237602]], deployed_model_id='2233288435920011264', model_version_id='3', model_resource_name='projects/339239659794/locations/us-central1/models/1047599285782183936', explanations=None)\n"
     ]
    }
   ],
   "source": [
    "import gradio as gr\n",
    "import requests\n",
    "from google.cloud import aiplatform\n",
    "from google.cloud.aiplatform import Feature, Featurestore\n",
    "\n",
    "aiplatform.init(\n",
    "    project=VERTEXAI_PROJECT_ID,\n",
    "    location=VERTEXAI_REGION\n",
    ")\n",
    "\n",
    "endpoint_filter_str='labels.experiment_name=\"'+f\"{PREFIX}-experiments\"+'\"'\n",
    "\n",
    "endpoints = aiplatform.Endpoint.list(\n",
    "       filter=endpoint_filter_str,\n",
    ")\n",
    "endpoint = endpoints[0]\n",
    "\n",
    "####### HERE WE WILL LOOKUP FEATURE STORE\n",
    "FEATURESTORE_ID = f\"{PREFIX}_promotions\"\n",
    "fs = Featurestore(\n",
    "    featurestore_name=FEATURESTORE_ID,\n",
    "    project=VERTEXAI_PROJECT_ID,\n",
    "    location=VERTEXAI_REGION,\n",
    ")\n",
    "print(fs.gca_resource)\n",
    "stats_entity_type = fs.get_entity_type(entity_type_id=\"stats\")\n",
    "#########################################\n",
    "\n",
    "def greet(in_threshold, in_user_id):\n",
    "    threshold = in_threshold\n",
    "    user_id = in_user_id\n",
    "    \n",
    "    #### Lookup Featurestore for given user_id \n",
    "    response = stats_entity_type.read(entity_ids=[user_id], feature_ids=_features)\n",
    "    instance = response.values.tolist()[0][1:]\n",
    "    print(instance)\n",
    "    \n",
    "    #### Make call to vertex AI Endpoint\n",
    "    result = endpoint.predict(instances=[instance])\n",
    "    print(result)\n",
    "    classification_result = False\n",
    "    if result.predictions[0][0] > threshold:\n",
    "        classification_result = True\n",
    "    return classification_result, result.predictions[0], result.deployed_model_id, result.model_version_id, result.model_resource_name\n",
    "\n",
    "    \n",
    "gInputs = [gr.Slider(0, 1, label = 'classification threshold', value = 0.5),\n",
    "           gr.Textbox(label = 'synerise_client_id', value = '3129545367')\n",
    "          ]\n",
    "\n",
    "##Prediction(predictions=[[0.00370752811]], deployed_model_id='2233288435920011264', \n",
    "##model_version_id='3', model_resource_name='projects/339239659794/locations/us-central1/models/1047599285782183936', explanations=None\n",
    "gOutputs = [gr.Textbox(label=\"Result\"),\n",
    "            gr.Textbox(label=\"Prediction\"),\n",
    "            gr.Textbox(label=\"Response: deployed model ID\"),\n",
    "            gr.Textbox(label=\"Response: model version ID\"),\n",
    "            gr.Textbox(label=\"Response: model resource name\")\n",
    "           ]\n",
    "\n",
    "demo = gr.Interface(fn=greet, inputs=gInputs, outputs=gOutputs, allow_flagging='never')\n",
    "\n",
    "demo.launch(share=True) "
   ]
  },
  {
   "cell_type": "markdown",
   "id": "8e058a93-a158-46b6-b740-8d23fffacece",
   "metadata": {},
   "source": [
    "### Debug"
   ]
  },
  {
   "cell_type": "code",
   "execution_count": 15,
   "id": "eb1313a2-c373-4175-b77c-ac342b01e343",
   "metadata": {},
   "outputs": [
    {
     "name": "stdout",
     "output_type": "stream",
     "text": [
      "name: \"projects/339239659794/locations/us-central1/featurestores/ccc_promotions\"\n",
      "create_time {\n",
      "  seconds: 1676542011\n",
      "  nanos: 997796000\n",
      "}\n",
      "update_time {\n",
      "  seconds: 1676542012\n",
      "  nanos: 528878000\n",
      "}\n",
      "etag: \"AMEw9yP3KeUF8l-lpIHvOAhLh6PNm0cc0Z9laIuj8du7iermHK05NsIW2yXw2QwUmzyj\"\n",
      "online_serving_config {\n",
      "  fixed_node_count: 1\n",
      "}\n",
      "state: STABLE\n",
      "\n"
     ]
    }
   ],
   "source": [
    "FEATURESTORE_ID = f\"{PREFIX}_promotions\"\n",
    "fs = Featurestore(\n",
    "    featurestore_name=FEATURESTORE_ID,\n",
    "    project=VERTEXAI_PROJECT_ID,\n",
    "    location=VERTEXAI_REGION,\n",
    ")\n",
    "print(fs.gca_resource)\n",
    "stats_entity_type = fs.get_entity_type(entity_type_id=\"stats\")"
   ]
  },
  {
   "cell_type": "code",
   "execution_count": null,
   "id": "51162792-ae1a-408b-8984-64ef5189120b",
   "metadata": {},
   "outputs": [
    {
     "data": {
      "text/html": [
       "<div>\n",
       "<style scoped>\n",
       "    .dataframe tbody tr th:only-of-type {\n",
       "        vertical-align: middle;\n",
       "    }\n",
       "\n",
       "    .dataframe tbody tr th {\n",
       "        vertical-align: top;\n",
       "    }\n",
       "\n",
       "    .dataframe thead th {\n",
       "        text-align: right;\n",
       "    }\n",
       "</style>\n",
       "<table border=\"1\" class=\"dataframe\">\n",
       "  <thead>\n",
       "    <tr style=\"text-align: right;\">\n",
       "      <th></th>\n",
       "      <th>entity_id</th>\n",
       "      <th>app_view_item_month_freq_1</th>\n",
       "      <th>www_umbrella_click_month_1</th>\n",
       "      <th>www_basket_value_monthly_2</th>\n",
       "      <th>www_coupon_add_month_3</th>\n",
       "      <th>app_sessions_freq_month_freq_3</th>\n",
       "      <th>www_visits_month_freq_1</th>\n",
       "      <th>www_esizeme_freq_esizme_applied</th>\n",
       "      <th>www_visits_add_fav_3</th>\n",
       "      <th>www_gallery_click_month_1</th>\n",
       "      <th>...</th>\n",
       "      <th>app_search_freq_month_freq_1</th>\n",
       "      <th>app_select_promotion_month_freq_2</th>\n",
       "      <th>www_basket_value_monthly_3</th>\n",
       "      <th>www_coupon_add_month_1</th>\n",
       "      <th>app_search_freq_month_freq_2</th>\n",
       "      <th>www_pages_visited_month_2</th>\n",
       "      <th>www_channel_freq__porownywarki</th>\n",
       "      <th>www_device_freq_mobile</th>\n",
       "      <th>www_time_onsite_avg_month_2</th>\n",
       "      <th>www_promo_click_month_3</th>\n",
       "    </tr>\n",
       "  </thead>\n",
       "  <tbody>\n",
       "    <tr>\n",
       "      <th>0</th>\n",
       "      <td>3129545367</td>\n",
       "      <td>37</td>\n",
       "      <td>0</td>\n",
       "      <td>0.0</td>\n",
       "      <td>0</td>\n",
       "      <td>6</td>\n",
       "      <td>0</td>\n",
       "      <td>0</td>\n",
       "      <td>0</td>\n",
       "      <td>0</td>\n",
       "      <td>...</td>\n",
       "      <td>6</td>\n",
       "      <td>1</td>\n",
       "      <td>0.0</td>\n",
       "      <td>0</td>\n",
       "      <td>12</td>\n",
       "      <td>0</td>\n",
       "      <td>0</td>\n",
       "      <td>0</td>\n",
       "      <td>0.0</td>\n",
       "      <td>0</td>\n",
       "    </tr>\n",
       "  </tbody>\n",
       "</table>\n",
       "<p>1 rows × 68 columns</p>\n",
       "</div>"
      ],
      "text/plain": [
       "    entity_id  app_view_item_month_freq_1  www_umbrella_click_month_1  \\\n",
       "0  3129545367                          37                           0   \n",
       "\n",
       "   www_basket_value_monthly_2  www_coupon_add_month_3  \\\n",
       "0                         0.0                       0   \n",
       "\n",
       "   app_sessions_freq_month_freq_3  www_visits_month_freq_1  \\\n",
       "0                               6                        0   \n",
       "\n",
       "   www_esizeme_freq_esizme_applied  www_visits_add_fav_3  \\\n",
       "0                                0                     0   \n",
       "\n",
       "   www_gallery_click_month_1  ...  app_search_freq_month_freq_1  \\\n",
       "0                          0  ...                             6   \n",
       "\n",
       "   app_select_promotion_month_freq_2  www_basket_value_monthly_3  \\\n",
       "0                                  1                         0.0   \n",
       "\n",
       "   www_coupon_add_month_1  app_search_freq_month_freq_2  \\\n",
       "0                       0                            12   \n",
       "\n",
       "   www_pages_visited_month_2  www_channel_freq__porownywarki  \\\n",
       "0                          0                               0   \n",
       "\n",
       "   www_device_freq_mobile  www_time_onsite_avg_month_2  \\\n",
       "0                       0                          0.0   \n",
       "\n",
       "   www_promo_click_month_3  \n",
       "0                        0  \n",
       "\n",
       "[1 rows x 68 columns]"
      ]
     },
     "execution_count": 23,
     "metadata": {},
     "output_type": "execute_result"
    }
   ],
   "source": [
    "response = stats_entity_type.read(entity_ids=[\"3129545367\"], feature_ids=_features)\n",
    "response"
   ]
  },
  {
   "cell_type": "code",
   "execution_count": 20,
   "id": "ec9d17e2-342a-4ecd-88d3-ff8aac2b2aef",
   "metadata": {
    "collapsed": true,
    "jupyter": {
     "outputs_hidden": true
    },
    "tags": []
   },
   "outputs": [
    {
     "data": {
      "text/plain": [
       "[0,\n",
       " 0,\n",
       " 0,\n",
       " 0,\n",
       " 0,\n",
       " 0,\n",
       " 0.0,\n",
       " 0.0,\n",
       " 0.0,\n",
       " 0,\n",
       " 0,\n",
       " 0,\n",
       " 0.0,\n",
       " 0.0,\n",
       " 0.0,\n",
       " 0,\n",
       " 0,\n",
       " 0,\n",
       " 0,\n",
       " 0,\n",
       " 0,\n",
       " 0,\n",
       " 0,\n",
       " 0,\n",
       " 0,\n",
       " 0,\n",
       " 0,\n",
       " 0,\n",
       " 0,\n",
       " 0,\n",
       " 0,\n",
       " 0,\n",
       " 0,\n",
       " 0,\n",
       " 0,\n",
       " 0,\n",
       " 0,\n",
       " 0,\n",
       " 0,\n",
       " 0,\n",
       " 0,\n",
       " 0,\n",
       " 0,\n",
       " 0,\n",
       " 0,\n",
       " 0,\n",
       " 0,\n",
       " 0,\n",
       " 7,\n",
       " 20,\n",
       " 6,\n",
       " 37,\n",
       " 187,\n",
       " 11,\n",
       " 1,\n",
       " 1,\n",
       " 2,\n",
       " 14,\n",
       " 9,\n",
       " 0,\n",
       " 6,\n",
       " 12,\n",
       " 8,\n",
       " 3,\n",
       " 0,\n",
       " 1,\n",
       " 0]"
      ]
     },
     "execution_count": 20,
     "metadata": {},
     "output_type": "execute_result"
    }
   ],
   "source": [
    "instance = response.values.tolist()\n",
    "instance[0][1:]"
   ]
  },
  {
   "cell_type": "code",
   "execution_count": null,
   "id": "c71487ff-d238-45bf-8f4e-67045f83556d",
   "metadata": {},
   "outputs": [],
   "source": []
  }
 ],
 "metadata": {
  "environment": {
   "name": "tf2-gpu.2-3.m80",
   "type": "gcloud",
   "uri": "gcr.io/deeplearning-platform-release/tf2-gpu.2-3:m80"
  },
  "kernelspec": {
   "display_name": "Python 3",
   "language": "python",
   "name": "python3"
  },
  "language_info": {
   "codemirror_mode": {
    "name": "ipython",
    "version": 3
   },
   "file_extension": ".py",
   "mimetype": "text/x-python",
   "name": "python",
   "nbconvert_exporter": "python",
   "pygments_lexer": "ipython3",
   "version": "3.7.10"
  }
 },
 "nbformat": 4,
 "nbformat_minor": 5
}

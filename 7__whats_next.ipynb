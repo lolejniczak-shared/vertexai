{
 "cells": [
  {
   "cell_type": "code",
   "execution_count": null,
   "id": "575f608f-38bf-4488-ae2d-0f46191cd8ec",
   "metadata": {},
   "outputs": [],
   "source": [
    "Model Monitoring\n",
    "Model Explainability\n",
    "Matching Engine\n",
    "Running models on shared infrastructure\n",
    "Optimizing Serving infrastructure\n",
    "Vertex AI Private Endpoints\n",
    "Distributed Hyperparameter tuning\n",
    "Distributed Training\n",
    "Running Vertex AI tasks from GCP Composer\n",
    "TFX\n",
    "Dataflow ML - ML inference on streams"
   ]
  },
  {
   "cell_type": "code",
   "execution_count": null,
   "id": "64035beb-db38-4f82-86bc-9a789da1b4db",
   "metadata": {},
   "outputs": [],
   "source": []
  }
 ],
 "metadata": {
  "environment": {
   "name": "tf2-gpu.2-3.m80",
   "type": "gcloud",
   "uri": "gcr.io/deeplearning-platform-release/tf2-gpu.2-3:m80"
  },
  "kernelspec": {
   "display_name": "Python 3",
   "language": "python",
   "name": "python3"
  },
  "language_info": {
   "codemirror_mode": {
    "name": "ipython",
    "version": 3
   },
   "file_extension": ".py",
   "mimetype": "text/x-python",
   "name": "python",
   "nbconvert_exporter": "python",
   "pygments_lexer": "ipython3",
   "version": "3.7.10"
  }
 },
 "nbformat": 4,
 "nbformat_minor": 5
}
